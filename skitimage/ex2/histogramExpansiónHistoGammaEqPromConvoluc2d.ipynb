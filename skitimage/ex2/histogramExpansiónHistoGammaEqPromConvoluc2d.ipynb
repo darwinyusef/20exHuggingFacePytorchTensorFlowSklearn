{
  "nbformat": 4,
  "nbformat_minor": 0,
  "metadata": {
    "colab": {
      "private_outputs": true,
      "provenance": [],
      "gpuType": "T4",
      "authorship_tag": "ABX9TyOaEDPrhbTxLLZVV25JuoQ+",
      "include_colab_link": true
    },
    "kernelspec": {
      "name": "python3",
      "display_name": "Python 3"
    },
    "language_info": {
      "name": "python"
    },
    "accelerator": "GPU"
  },
  "cells": [
    {
      "cell_type": "markdown",
      "metadata": {
        "id": "view-in-github",
        "colab_type": "text"
      },
      "source": [
        "<a href=\"https://colab.research.google.com/github/darwinyusef/20exHuggingFacePytorchTensorFlowSklearn/blob/master/skitimage/ex2/histogramExpansi%C3%B3nHistoGammaEqPromConvoluc2d.ipynb\" target=\"_parent\"><img src=\"https://colab.research.google.com/assets/colab-badge.svg\" alt=\"Open In Colab\"/></a>"
      ]
    },
    {
      "cell_type": "code",
      "source": [
        "from google.colab import files\n",
        "import cv2\n",
        "import numpy as np\n",
        "from matplotlib import pyplot as plt"
      ],
      "metadata": {
        "id": "Mzy42UdxDY0i"
      },
      "execution_count": null,
      "outputs": []
    },
    {
      "cell_type": "code",
      "source": [
        "# Subir el archivo\n",
        "uploaded = files.upload()\n",
        "\n",
        "# Obtener el nombre del archivo\n",
        "filename = list(uploaded.keys())[0]\n",
        "\n",
        "# Cargar la imagen en escala de grises\n",
        "imagen = cv2.imread(filename, cv2.IMREAD_GRAYSCALE)\n",
        "\n",
        "# Mostrar la imagen\n",
        "plt.imshow(imagen, cmap='gray')\n",
        "plt.title(\"Imagen Cargada en Colab\")\n",
        "plt.axis(\"off\")\n",
        "plt.show()"
      ],
      "metadata": {
        "id": "M6KpZ-5kDJiz"
      },
      "execution_count": null,
      "outputs": []
    },
    {
      "cell_type": "code",
      "execution_count": null,
      "metadata": {
        "id": "KAHFKA0W8RST"
      },
      "outputs": [],
      "source": [
        "from skimage import exposure\n",
        "\n",
        "# Usando OpenCV\n",
        "hist_cv2 = cv2.calcHist([imagen], [0], None, [256], [0,256])\n",
        "\n",
        "# Usando skimage\n",
        "hist_skimage, bins = exposure.histogram(imagen)\n",
        "\n",
        "# Graficar el histograma\n",
        "plt.figure(figsize=(4,3))\n",
        "plt.plot(hist_skimage, color='blue', label=\"skimage\")\n",
        "plt.plot(hist_cv2, color='red', linestyle=\"dashed\", label=\"OpenCV\")\n",
        "plt.title(\"Histograma de la Imagen\")\n",
        "plt.xlabel(\"Intensidad de píxeles\")\n",
        "plt.ylabel(\"Frecuencia\")\n",
        "plt.legend()\n",
        "plt.show()"
      ]
    },
    {
      "cell_type": "code",
      "source": [
        "# Usando OpenCV\n",
        "imagen_eq_cv2 = cv2.equalizeHist(imagen)\n",
        "\n",
        "# Usando skimage\n",
        "imagen_eq_skimage = exposure.equalize_hist(imagen)  # Normalizado entre [0,1]\n",
        "\n",
        "# Mostrar resultados\n",
        "fig, ax = plt.subplots(1, 3, figsize=(15,5))\n",
        "ax[0].imshow(imagen, cmap='gray')\n",
        "ax[0].set_title(\"Original\")\n",
        "ax[0].axis(\"off\")\n",
        "\n",
        "ax[1].imshow(imagen_eq_cv2, cmap='gray')\n",
        "ax[1].set_title(\"Ecualización OpenCV\")\n",
        "ax[1].axis(\"off\")\n",
        "\n",
        "ax[2].imshow(imagen_eq_skimage, cmap='gray')\n",
        "ax[2].set_title(\"Ecualización skimage\")\n",
        "ax[2].axis(\"off\")\n",
        "\n",
        "plt.show()"
      ],
      "metadata": {
        "id": "Dtsa_r_bDt-b"
      },
      "execution_count": null,
      "outputs": []
    },
    {
      "cell_type": "code",
      "source": [
        "# Normalizar la imagen con skimage\n",
        "p2, p98 = np.percentile(imagen, (2, 98))\n",
        "imagen_stretch = exposure.rescale_intensity(imagen, in_range=(p2, p98))\n",
        "\n",
        "# Mostrar resultado\n",
        "plt.imshow(imagen_stretch, cmap='gray')\n",
        "plt.title(\"Expansión del Histograma\")\n",
        "plt.axis(\"off\")\n",
        "plt.show()\n",
        "\n",
        "exposure.histogram\n",
        "Expansión del Histograma"
      ],
      "metadata": {
        "id": "k7Tm5AMqD4vL"
      },
      "execution_count": null,
      "outputs": []
    },
    {
      "cell_type": "code",
      "source": [
        "# Check if the image was loaded correctly\n",
        "imagen = cv2.imread(filename, cv2.IMREAD_GRAYSCALE)\n",
        "if imagen is None:\n",
        "  print(f\"Error: Could not load image from {filename}. Please check the file path.\")\n",
        "else:\n",
        "  # Mostrar la imagen\n",
        "  plt.imshow(imagen, cmap='gray')\n",
        "  plt.title(\"Imagen Cargada en Colab\")\n",
        "  plt.axis(\"off\")\n",
        "  plt.show()\n",
        "\n",
        "# Aplicar ecualización de histograma\n",
        "imagen_eq = cv2.equalizeHist(imagen)\n",
        "\n",
        "# Aplicar corrección gamma para ajustar el contraste\n",
        "gamma = 1 # 0.5\n",
        "imagen_gamma = exposure.adjust_gamma(imagen_eq, gamma)\n",
        "\n",
        "# Crear gráficos\n",
        "fig, axes = plt.subplots(2, 3, figsize=(12, 6))\n",
        "\n",
        "# Mostrar imágenes\n",
        "axes[0, 0].imshow(imagen, cmap='gray')\n",
        "axes[0, 0].set_title(\"Imagen Original\")\n",
        "axes[0, 1].imshow(imagen_eq, cmap='gray')\n",
        "axes[0, 1].set_title(\"Ecualización del Histograma\")\n",
        "axes[0, 2].imshow(imagen_gamma, cmap='gray')\n",
        "axes[0, 2].set_title(f\"Corrección Gamma (γ={gamma})\")\n",
        "\n",
        "# Calcular histogramas\n",
        "hist_original = cv2.calcHist([imagen], [0], None, [256], [0, 256])\n",
        "hist_eq = cv2.calcHist([imagen_eq], [0], None, [256], [0, 256])\n",
        "hist_gamma = cv2.calcHist([imagen_gamma.astype(np.uint8)], [0], None, [256], [0, 256])\n",
        "\n",
        "# Mostrar histogramas\n",
        "axes[1, 0].plot(hist_original, color='blue')\n",
        "axes[1, 0].set_title(\"Histograma Original\")\n",
        "axes[1, 1].plot(hist_eq, color='blue')\n",
        "axes[1, 1].set_title(\"Histograma Ecualizado\")\n",
        "axes[1, 2].plot(hist_gamma, color='blue')\n",
        "axes[1, 2].set_title(\"Histograma con Gamma\")\n",
        "\n",
        "# Ajustar diseño\n",
        "for ax in axes.flat:\n",
        "    ax.axis(\"off\" if ax in axes[0] else \"on\")\n",
        "\n",
        "plt.tight_layout()\n",
        "plt.show()\n"
      ],
      "metadata": {
        "id": "llLbcerSGpiz"
      },
      "execution_count": null,
      "outputs": []
    },
    {
      "cell_type": "code",
      "source": [
        "import cv2\n",
        "import numpy as np\n",
        "import matplotlib.pyplot as plt\n",
        "\n",
        "# Cargar múltiples imágenes en escala de grises\n",
        "imagenes = [\n",
        "    cv2.imread(\"daniada.jpg\", cv2.IMREAD_GRAYSCALE),\n",
        "    cv2.imread(\"find.jpeg\", cv2.IMREAD_GRAYSCALE),\n",
        "    cv2.imread(\"gen01.jpeg\", cv2.IMREAD_GRAYSCALE),\n",
        "]\n",
        "\n",
        "# Verificar que todas las imágenes tengan el mismo tamaño\n",
        "altura, ancho = imagenes[0].shape\n",
        "imagenes = [cv2.resize(img, (ancho, altura)) for img in imagenes]\n",
        "\n",
        "# Sumar las imágenes píxel a píxel y calcular el promedio\n",
        "imagen_promedio = np.mean(imagenes, axis=0).astype(np.uint8)\n",
        "\n",
        "# Crear figura para imágenes y sus histogramas\n",
        "fig, axes = plt.subplots(2, len(imagenes) + 1, figsize=(15, 8))\n",
        "\n",
        "# Mostrar imágenes originales y su histograma\n",
        "for i, img in enumerate(imagenes):\n",
        "    axes[0, i].imshow(img, cmap='gray')\n",
        "    axes[0, i].set_title(f\"Imagen {i+1}\")\n",
        "    axes[0, i].axis(\"off\")\n",
        "\n",
        "    # Calcular y mostrar histograma\n",
        "    axes[1, i].hist(img.ravel(), bins=256, range=[0,256], color='gray', alpha=0.7)\n",
        "    axes[1, i].set_title(f\"Histograma {i+1}\")\n",
        "\n",
        "# Mostrar imagen promedio y su histograma\n",
        "axes[0, -1].imshow(imagen_promedio, cmap='gray')\n",
        "axes[0, -1].set_title(\"Imagen Promedio\")\n",
        "axes[0, -1].axis(\"off\")\n",
        "\n",
        "axes[1, -1].hist(imagen_promedio.ravel(), bins=256, range=[0,256], color='black', alpha=0.7)\n",
        "axes[1, -1].set_title(\"Histograma Promedio\")\n",
        "\n",
        "plt.tight_layout()\n",
        "plt.show()"
      ],
      "metadata": {
        "id": "LiRms_0mIavD"
      },
      "execution_count": null,
      "outputs": []
    },
    {
      "cell_type": "code",
      "source": [
        "# Cargar la imagen en escala de grises\n",
        "imagen = cv2.imread(\"daniada.jpg\", cv2.IMREAD_GRAYSCALE)\n",
        "\n",
        "# Definir un kernel (filtro) como en la imagen\n",
        "kernel = np.array([[-1, -1],\n",
        "                   [ 1,  1]])\n",
        "\n",
        "# Aplicar la convolución 2D usando el kernel\n",
        "imagen_filtrada = cv2.filter2D(imagen, -1, kernel)\n",
        "\n",
        "# Mostrar imagen original y resultado\n",
        "fig, axes = plt.subplots(1, 2, figsize=(10, 5))\n",
        "axes[0].imshow(imagen, cmap='gray')\n",
        "axes[0].set_title(\"Imagen Original\")\n",
        "axes[0].axis(\"off\")\n",
        "\n",
        "axes[1].imshow(imagen_filtrada, cmap='gray')\n",
        "axes[1].set_title(\"Imagen con Convolución 2D\")\n",
        "axes[1].axis(\"off\")\n",
        "\n",
        "plt.show()"
      ],
      "metadata": {
        "id": "wTJ9B-GsJ8ir"
      },
      "execution_count": null,
      "outputs": []
    }
  ]
}