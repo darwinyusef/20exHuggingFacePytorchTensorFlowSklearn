{
  "nbformat": 4,
  "nbformat_minor": 0,
  "metadata": {
    "colab": {
      "private_outputs": true,
      "provenance": [],
      "authorship_tag": "ABX9TyM0z/RFIw6TNOmvSlxaOILt",
      "include_colab_link": true
    },
    "kernelspec": {
      "name": "python3",
      "display_name": "Python 3"
    },
    "language_info": {
      "name": "python"
    }
  },
  "cells": [
    {
      "cell_type": "markdown",
      "metadata": {
        "id": "view-in-github",
        "colab_type": "text"
      },
      "source": [
        "<a href=\"https://colab.research.google.com/github/darwinyusef/20exHuggingFacePytorchTensorFlowSklearn/blob/master/skitimage/ex3/cv2ProcesamientoImagen.ipynb\" target=\"_parent\"><img src=\"https://colab.research.google.com/assets/colab-badge.svg\" alt=\"Open In Colab\"/></a>"
      ]
    },
    {
      "cell_type": "code",
      "source": [
        "import cv2\n",
        "from google.colab import files\n",
        "from google.colab.patches import cv2_imshow\n"
      ],
      "metadata": {
        "id": "EnJsaNiMI_mO"
      },
      "execution_count": null,
      "outputs": []
    },
    {
      "cell_type": "code",
      "source": [
        "uploaded = files.upload()\n",
        "\n",
        "# Obtener el nombre del archivo\n",
        "filename = list(uploaded.keys())[0]\n",
        "\n",
        "# Cargar la imagen en escala de grises\n",
        "imagen = cv2.imread(filename, cv2.IMREAD_GRAYSCALE)"
      ],
      "metadata": {
        "id": "CIXY-VzsI4vv"
      },
      "execution_count": null,
      "outputs": []
    },
    {
      "cell_type": "code",
      "execution_count": null,
      "metadata": {
        "id": "oDpQk3YmIr-t"
      },
      "outputs": [],
      "source": [
        "# Leer la imagen en escala de grises\n",
        "imagen = cv2.imread('/content/info.jpg', cv2.IMREAD_GRAYSCALE)\n",
        "\n",
        "# Mostrar la imagen\n",
        "cv2_imshow(imagen)\n",
        "#cv2.waitKey(0)\n",
        "#cv2.destroyAllWindows()"
      ]
    },
    {
      "cell_type": "code",
      "source": [
        "\n",
        "\n",
        "# Leer la imagen en BGR para la conversión de color\n",
        "imagen_bgr = cv2.imread('/content/info.jpg', cv2.IMREAD_COLOR) # Load image in BGR\n",
        "# Convertir de BGR a RGB para que se vea bien en Matplotlib\n",
        "imagen_rgb = cv2.cvtColor(imagen_bgr, cv2.COLOR_BGR2RGB)\n",
        "\n",
        "# Convertir a diferentes espacios de color\n",
        "imagen_hsv = cv2.cvtColor(imagen_bgr, cv2.COLOR_BGR2HSV) #use the BGR image\n",
        "imagen_hsv_rgb = cv2.cvtColor(imagen_hsv, cv2.COLOR_BGR2RGB)\n",
        "imagen_lab = cv2.cvtColor(imagen_bgr, cv2.COLOR_BGR2LAB) #use the BGR image\n",
        "imagen_lab_rgb = cv2.cvtColor(imagen_lab, cv2.COLOR_BGR2RGB)\n",
        "# Mostrar la imagen\n",
        "#cv2_imshow(imagen)\n",
        "# Display images using cv2_imshow with single argument\n",
        "#cv2_imshow(imagen_hsv) # Display the HSV image\n",
        "#cv2_imshow(imagen_lab) # Display the LAB image\n",
        "\n",
        "\n",
        "plt.figure( figsize=(20,10) )\n",
        "plt.subplot(1,3,1)\n",
        "plt.imshow(imagen_rgb)\n",
        "plt.title('NORMAL')\n",
        "plt.axis('off')\n",
        "\n",
        "plt.subplot(1,3,2)\n",
        "plt.imshow(imagen_hsv_rgb)\n",
        "plt.title('HSV')\n",
        "plt.axis('off')\n",
        "\n",
        "plt.subplot(1,3,3)\n",
        "plt.imshow(imagen_lab_rgb, extent=[0, imagen.shape[1], imagen.shape[0], 0])\n",
        "plt.title('LAB')\n",
        "plt.axis('off')\n",
        "\n",
        "plt.show()\n"
      ],
      "metadata": {
        "id": "TXM3WVceLu9o"
      },
      "execution_count": null,
      "outputs": []
    },
    {
      "cell_type": "code",
      "source": [
        "\n",
        "# Definir un sector de píxeles (subimagen)\n",
        "sector = imagen[0:250, 0:250]  # Filas de 50 a 100, columnas de 100 a 200\n",
        "\n",
        "# Mostrar el sector extraído\n",
        "cv2_imshow(sector)"
      ],
      "metadata": {
        "id": "eTXj-BlSQ12H"
      },
      "execution_count": null,
      "outputs": []
    },
    {
      "cell_type": "code",
      "source": [
        "import cv2\n",
        "\n",
        "# Cargar la imagen en color\n",
        "imagen = cv2.imread('/content/info.jpg')\n",
        "sector = imagen[0:250, 0:250]\n",
        "sector_gris = cv2.cvtColor(sector, cv2.COLOR_BGR2GRAY)\n",
        "sector_bgr = cv2.cvtColor(sector_gris, cv2.COLOR_GRAY2BGR)\n",
        "imagen[0:250, 0:250] = sector_bgr\n",
        "cv2_imshow(imagen)\n"
      ],
      "metadata": {
        "id": "NQeWeTpxTJzs"
      },
      "execution_count": null,
      "outputs": []
    },
    {
      "cell_type": "code",
      "source": [
        "import numpy as np\n",
        "import cv2\n",
        "\n",
        "imagen = cv2.imread('/content/info.jpg')\n",
        "h, w = imagen.shape[:2]\n",
        "\n",
        "# Matriz de traslación (mueve 50px a la derecha y 30px hacia abajo)\n",
        "M = np.float32([[1, 0, 50], [0, 1, 30]])\n",
        "\n",
        "imagen_trasladada = cv2.warpAffine(imagen, M, (w, h))\n",
        "\n",
        "cv2_imshow(imagen_trasladada)"
      ],
      "metadata": {
        "id": "KZbvinPcUruj"
      },
      "execution_count": null,
      "outputs": []
    },
    {
      "cell_type": "code",
      "source": [
        "img = cv2.imread(\"info.jpg\")\n",
        "resized_img = cv2.resize(img, (200, 200))\n",
        "cv2_imshow(resized_img)"
      ],
      "metadata": {
        "id": "oewO9NkcV1YR"
      },
      "execution_count": null,
      "outputs": []
    },
    {
      "cell_type": "code",
      "source": [
        "img = cv2.imread(\"info.jpg\")\n",
        "# Rotar la imagen 90° en sentido antihorario\n",
        "imagen_rotada = cv2.rotate(img, cv2.ROTATE_90_COUNTERCLOCKWISE)\n",
        "cv2_imshow(imagen_rotada)"
      ],
      "metadata": {
        "id": "qX3agR0xWioE"
      },
      "execution_count": null,
      "outputs": []
    },
    {
      "cell_type": "code",
      "source": [
        "img = cv2.imread(\"info.jpg\")\n",
        "\n",
        "# Redimensionar la imagen al 50% de su tamaño\n",
        "imagen_escalada = cv2.resize(imagen, None, fx=0.5, fy=0.5)\n",
        "\n",
        "cv2_imshow(imagen_escalada)"
      ],
      "metadata": {
        "id": "UqIk2w1SWzf-"
      },
      "execution_count": null,
      "outputs": []
    },
    {
      "cell_type": "code",
      "source": [
        "img = cv2.imread(\"info.jpg\")\n",
        "# Coordenadas de la región a transformar\n",
        "pts1 = np.float32([[50, 50], [200, 50], [50, 200], [200, 200]])\n",
        "pts2 = np.float32([[10, 100], [180, 50], [50, 250], [220, 220]])\n",
        "\n",
        "# Matriz de transformación\n",
        "M = cv2.getPerspectiveTransform(pts1, pts2)\n",
        "\n",
        "imagen_transformada = cv2.warpPerspective(imagen, M, (imagen.shape[1], imagen.shape[0]))\n",
        "\n",
        "cv2_imshow(imagen_transformada)"
      ],
      "metadata": {
        "id": "7gd6G4XEXCcj"
      },
      "execution_count": null,
      "outputs": []
    },
    {
      "cell_type": "code",
      "source": [
        "import matplotlib.pyplot as plt\n",
        "import cv2\n",
        "\n",
        "imagen = cv2.imread('info.jpg', cv2.IMREAD_GRAYSCALE)\n",
        "cv2_imshow(imagen)\n",
        "# Calcular histograma\n",
        "histograma = cv2.calcHist([imagen], [0], None, [256], [0, 256])\n",
        "\n",
        "# Graficar histograma\n",
        "plt.plot(histograma)\n",
        "plt.title('Histograma')\n",
        "plt.xlabel('Intensidad')\n",
        "plt.ylabel('Frecuencia')\n",
        "plt.show()"
      ],
      "metadata": {
        "id": "eM6UhjkGYkVx"
      },
      "execution_count": null,
      "outputs": []
    },
    {
      "cell_type": "code",
      "source": [
        "import cv2\n",
        "import numpy as np\n",
        "\n",
        "# Cargar la imagen\n",
        "imagen = cv2.imread(\"info.jpg\")\n",
        "\n",
        "# Convertir la imagen a escala de grises\n",
        "imagen_gris = cv2.cvtColor(imagen, cv2.COLOR_BGR2GRAY)\n",
        "\n",
        "histograma = cv2.calcHist([imagen_gris], [0], None, [256], [0, 256])\n",
        "# Aplicar ecualización del histograma a la imagen en escala de grises\n",
        "imagen_eq = cv2.equalizeHist(imagen_gris)\n",
        "histograma2 = cv2.calcHist([imagen_eq], [0], None, [256], [0, 256])\n",
        "# Mostrar la imagen original and la imagen ecualizada (opcional)\n",
        "cv2_imshow( imagen)\n",
        "cv2_imshow( imagen_eq)\n",
        "\n",
        "# Graficar histograma\n",
        "plt.plot(histograma)\n",
        "plt.title('Histograma')\n",
        "plt.xlabel('Intensidad')\n",
        "plt.ylabel('Frecuencia')\n",
        "plt.show()\n",
        "\n",
        "# Graficar histograma\n",
        "plt.plot(histograma2)\n",
        "plt.title('Histograma')\n",
        "plt.xlabel('Intensidad')\n",
        "plt.ylabel('Frecuencia')\n",
        "plt.show()"
      ],
      "metadata": {
        "id": "Su4xgEUkY_yN"
      },
      "execution_count": null,
      "outputs": []
    },
    {
      "cell_type": "code",
      "source": [
        "# Cargar la imagen\n",
        "imagen = cv2.imread(\"info.jpg\")\n",
        "# Separar canales de color (BGR)\n",
        "colores = ('b', 'g', 'r')\n",
        "\n",
        "plt.figure()\n",
        "for i, color in enumerate(colores):\n",
        "    histograma = cv2.calcHist([imagen], [i], None, [256], [0, 256])\n",
        "    plt.plot(histograma, color=color)\n",
        "    plt.xlim([0, 256])\n",
        "\n",
        "plt.title('Histograma de Color')\n",
        "plt.show()"
      ],
      "metadata": {
        "id": "_G6UdJvYa0EO"
      },
      "execution_count": null,
      "outputs": []
    },
    {
      "cell_type": "code",
      "source": [
        "mascara = np.zeros(imagen.shape[:2], np.uint8)\n",
        "print(mascara)\n",
        "mascara[100:300, 100:300] = 255  # Seleccionar un área de interés\n",
        "\n",
        "hist_mascara = cv2.calcHist([imagen], [0], mascara, [256], [0, 256])\n",
        "\n",
        "plt.figure()\n",
        "plt.plot(hist_mascara, color='r')\n",
        "plt.title('Histograma con Máscara')\n",
        "plt.show()"
      ],
      "metadata": {
        "id": "-3NTNKBZbBX_"
      },
      "execution_count": null,
      "outputs": []
    },
    {
      "cell_type": "code",
      "source": [
        "clahe = cv2.createCLAHE(clipLimit=2.0, tileGridSize=(8,8))\n",
        "imagen_clahe = clahe.apply(imagen_gris)\n",
        "\n",
        "cv2_imshow(imagen_clahe)"
      ],
      "metadata": {
        "id": "igjN2PM1cSNe"
      },
      "execution_count": null,
      "outputs": []
    },
    {
      "cell_type": "code",
      "source": [
        "# Ecualización Adaptativa\n",
        "imagen_gris = cv2.cvtColor(imagen, cv2.COLOR_BGR2GRAY)\n",
        "_, imagen_binaria = cv2.threshold(imagen_gris, 127, 255, cv2.THRESH_BINARY)\n",
        "\n",
        "cv2_imshow(imagen_clahe)"
      ],
      "metadata": {
        "id": "yIiPfub9cg2t"
      },
      "execution_count": null,
      "outputs": []
    },
    {
      "cell_type": "code",
      "source": [
        "# Umbralización binaria invertida\n",
        "imagen_gris = cv2.cvtColor(imagen, cv2.COLOR_BGR2GRAY)\n",
        "_, imagen_inv = cv2.threshold(imagen_gris, 127, 255, cv2.THRESH_BINARY_INV)\n",
        "\n",
        "cv2_imshow(imagen_clahe)"
      ],
      "metadata": {
        "id": "mqtMCLOgdFWu"
      },
      "execution_count": null,
      "outputs": []
    },
    {
      "cell_type": "code",
      "source": [
        "# Umbralización binaria con trackbar\n",
        "def actualizar_umbral(valor):\n",
        "    _, imagen_umbral = cv2.threshold(imagen_gris, valor, 255, cv2.THRESH_BINARY)\n",
        "    cv2_imshow(imagen_umbral)\n",
        "\n",
        "cv2.createTrackbar('Umbral', 'Binarización Trackbar', 127, 255, actualizar_umbral)\n",
        "actualizar_umbral(127)"
      ],
      "metadata": {
        "id": "YXM-nwn0d2pg"
      },
      "execution_count": null,
      "outputs": []
    },
    {
      "cell_type": "code",
      "source": [
        "_, imagen_otsu = cv2.threshold(imagen_gris, 0, 255, cv2.THRESH_BINARY + cv2.THRESH_OTSU)\n",
        "\n",
        "cv2_imshow(imagen_otsu)"
      ],
      "metadata": {
        "id": "okQhSq_JeGMR"
      },
      "execution_count": null,
      "outputs": []
    },
    {
      "cell_type": "code",
      "source": [
        "imagen_adaptativa = cv2.adaptiveThreshold(imagen_gris, 255, cv2.ADAPTIVE_THRESH_GAUSSIAN_C, cv2.THRESH_BINARY, 11, 2)\n",
        "\n",
        "cv2_imshow(imagen_adaptativa)"
      ],
      "metadata": {
        "id": "YGq_Hya0eN_A"
      },
      "execution_count": null,
      "outputs": []
    },
    {
      "cell_type": "code",
      "source": [
        "imagen_suavizada = cv2.blur(imagen, (5,5))\n",
        "\n",
        "cv2_imshow(imagen_suavizada)"
      ],
      "metadata": {
        "id": "nNv1dqqSfE2N"
      },
      "execution_count": null,
      "outputs": []
    },
    {
      "cell_type": "code",
      "source": [
        "kernel = np.ones((5,5), np.uint8)\n",
        "\n",
        "erosionada = cv2.erode(imagen, kernel, iterations=1)\n",
        "dilatada = cv2.dilate(imagen, kernel, iterations=1)\n",
        "# 'Erosión'\n",
        "cv2_imshow( erosionada)\n",
        "# 'Dilatación'\n",
        "cv2_imshow( dilatada)"
      ],
      "metadata": {
        "id": "5VYJMjACfNH9"
      },
      "execution_count": null,
      "outputs": []
    },
    {
      "cell_type": "code",
      "source": [
        "sobelx = cv2.Sobel(imagen_gris, cv2.CV_64F, 1, 0, ksize=3)\n",
        "sobely = cv2.Sobel(imagen_gris, cv2.CV_64F, 0, 1, ksize=3)\n",
        "# Sobel X\n",
        "cv2_imshow(sobelx)\n",
        "# Sobel Y\n",
        "cv2_imshow(sobely)\n",
        "\n",
        "bordes = cv2.Canny(imagen, 100, 200)\n",
        "#'Canny',\n",
        "cv2_imshow(bordes)"
      ],
      "metadata": {
        "id": "DLD7thBmfc7X"
      },
      "execution_count": null,
      "outputs": []
    },
    {
      "cell_type": "code",
      "source": [
        "import cv2\n",
        "import numpy as np\n",
        "import matplotlib.pyplot as plt\n",
        "\n",
        "# Cargar la imagen\n",
        "imagen = cv2.imread('info.jpg')\n",
        "imagen = cv2.cvtColor(imagen, cv2.COLOR_BGR2RGB)  # Convertir a RGB para Matplotlib\n",
        "\n",
        "# Aplicar distintos tipos de desenfoque\n",
        "blur = cv2.blur(imagen, (5,5))  # Blurring normal\n",
        "gauss = cv2.GaussianBlur(imagen, (5,5), 0)  # Desenfoque Gaussiano\n",
        "median = cv2.medianBlur(imagen, 5)  # Desenfoque Medio\n",
        "bilateral = cv2.bilateralFilter(imagen, 9, 75, 75)  # Filtrado Bilateral\n",
        "\n",
        "# Configurar la figura con 5 subplots\n",
        "plt.figure(figsize=(20, 12))\n",
        "\n",
        "plt.subplot(1, 5, 1)\n",
        "plt.imshow(imagen)\n",
        "plt.title('Original')\n",
        "plt.axis('off')\n",
        "\n",
        "plt.subplot(1, 5, 2)\n",
        "plt.imshow(blur)\n",
        "plt.title('Blurring')\n",
        "plt.axis('off')\n",
        "\n",
        "plt.subplot(1, 5, 3)\n",
        "plt.imshow(gauss)\n",
        "plt.title('Gaussiano')\n",
        "plt.axis('off')\n",
        "\n",
        "plt.subplot(1, 5, 4)\n",
        "plt.imshow(median)\n",
        "plt.title('Mediano')\n",
        "plt.axis('off')\n",
        "\n",
        "plt.subplot(1, 5, 5)\n",
        "plt.imshow(bilateral)\n",
        "plt.title('Bilateral')\n",
        "plt.axis('off')\n",
        "\n",
        "plt.tight_layout()\n",
        "plt.show()"
      ],
      "metadata": {
        "id": "Kvscf6rShLKV"
      },
      "execution_count": null,
      "outputs": []
    }
  ]
}