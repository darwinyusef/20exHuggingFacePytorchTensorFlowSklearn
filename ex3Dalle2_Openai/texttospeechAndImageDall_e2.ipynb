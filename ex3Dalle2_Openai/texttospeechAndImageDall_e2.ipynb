{
  "nbformat": 4,
  "nbformat_minor": 0,
  "metadata": {
    "colab": {
      "private_outputs": true,
      "provenance": [],
      "gpuType": "T4",
      "authorship_tag": "ABX9TyNLVldv7RwzW3kGKCazVJU/",
      "include_colab_link": true
    },
    "kernelspec": {
      "name": "python3",
      "display_name": "Python 3"
    },
    "language_info": {
      "name": "python"
    },
    "accelerator": "GPU"
  },
  "cells": [
    {
      "cell_type": "markdown",
      "metadata": {
        "id": "view-in-github",
        "colab_type": "text"
      },
      "source": [
        "<a href=\"https://colab.research.google.com/github/darwinyusef/20exHuggingFacePytorchTensorFlowSklearn/blob/master/ex3Dalle2_Openai/texttospeechAndImageDall_e2.ipynb\" target=\"_parent\"><img src=\"https://colab.research.google.com/assets/colab-badge.svg\" alt=\"Open In Colab\"/></a>"
      ]
    },
    {
      "cell_type": "code",
      "source": [
        "from google.colab import userdata"
      ],
      "metadata": {
        "id": "IXoTcXjZgsXc"
      },
      "execution_count": null,
      "outputs": []
    },
    {
      "cell_type": "code",
      "source": [
        "# Instalar las bibliotecas necesarias\n",
        "!pip install openai gradio"
      ],
      "metadata": {
        "id": "WcQCRqjgg0by"
      },
      "execution_count": null,
      "outputs": []
    },
    {
      "cell_type": "code",
      "source": [
        "key = userdata.get('openIAKey')"
      ],
      "metadata": {
        "id": "HEWtKaanhcBF"
      },
      "execution_count": null,
      "outputs": []
    },
    {
      "cell_type": "code",
      "execution_count": null,
      "metadata": {
        "id": "_LycQR44gVXR"
      },
      "outputs": [],
      "source": [
        "import gradio as gr\n",
        "from pathlib import Path\n",
        "from openai import OpenAI\n",
        "\n",
        "# Configurar la API Key de OpenAI\n",
        "client = OpenAI(api_key=key)  # Reemplaza con tu clave de API\n",
        "\n",
        "# Función para generar y devolver el audio\n",
        "def generar_audio(texto):\n",
        "    speech_file_path = \"/content/speech.mp3\"\n",
        "\n",
        "    response = client.audio.speech.create(\n",
        "        model=\"tts-1\",\n",
        "        voice=\"alloy\",  # Puedes probar con otras voces: \"nova\", \"echo\"\n",
        "        input=texto,\n",
        "    )\n",
        "\n",
        "    response.stream_to_file(speech_file_path)\n",
        "\n",
        "    return speech_file_path  # Devolver el archivo para reproducir en Gradio\n",
        "\n",
        "# Crear la interfaz con Gradio\n",
        "interfaz = gr.Interface(\n",
        "    fn=generar_audio,\n",
        "    inputs=gr.Textbox(label=\"Texto en español\"),\n",
        "    outputs=gr.Audio(label=\"Escucha tu texto\"),\n",
        "    title=\"Generador de Voz con OpenAI\",\n",
        "    description=\"Escribe un texto en español y escucha su versión en voz con IA.\",\n",
        ")\n",
        "\n",
        "# Iniciar la interfaz en Google Colab\n",
        "interfaz.launch(share=True)\n"
      ]
    },
    {
      "cell_type": "code",
      "source": [
        "from pathlib import Path\n",
        "from openai import OpenAI\n",
        "import IPython.display as display\n",
        "\n",
        "# Configurar la API Key de OpenAI\n",
        "client = OpenAI(api_key=key)  # Reemplaza con tu clave de API\n",
        "\n",
        "# Definir ruta del archivo en Google Colab\n",
        "speech_file_path = Path(\"/content/speech.mp3\")\n",
        "\n",
        "# Crear la síntesis de voz en español\n",
        "# Make sure that your OpenAI project has access to the 'tts-1' model.\n",
        "# If not, enable it in your API key settings on the OpenAI website.\n",
        "response = client.audio.speech.create(\n",
        "    model=\"tts-1\",\n",
        "    voice=\"nova\",  # Puedes probar con otros: \"nova\", \"echo\", etc.\n",
        "    input=\"Hoy es un día maravilloso para construir algo que la gente ame.\",\n",
        ")\n",
        "\n",
        "# Guardar el archivo de audio\n",
        "response.stream_to_file(speech_file_path)\n",
        "\n",
        "# Reproducir el archivo en Google Colab\n",
        "display.Audio(str(speech_file_path))\n"
      ],
      "metadata": {
        "id": "6TbRmvC6hYLW"
      },
      "execution_count": null,
      "outputs": []
    },
    {
      "cell_type": "code",
      "source": [
        "import gradio as gr\n",
        "from openai import OpenAI\n",
        "\n",
        "# Configura el cliente con tu clave de API\n",
        "client = OpenAI(api_key=key)\n",
        "\n",
        "def generate_image(prompt):\n",
        "    try:\n",
        "        response = client.images.generate(\n",
        "            model=\"dall-e-2\",\n",
        "            prompt=prompt,\n",
        "            n=1,\n",
        "            size=\"1920x1080\",\n",
        "        )\n",
        "        return response.data[0].url if response.data else \"Error al generar la imagen\"\n",
        "    except Exception as e:\n",
        "        return f\"Ocurrió un error: {e}\"\n",
        "\n",
        "# Interfaz con Gradio\n",
        "iface = gr.Interface(\n",
        "    fn=generate_image,\n",
        "    inputs=gr.Textbox(label=\"Describe la imagen\"),\n",
        "    outputs=gr.Image(label=\"Imagen Generada\"),\n",
        "    title=\"Generador de Imágenes con DALL·E 2\",\n",
        "    description=\"Escribe una descripción y obtén una imagen generada por IA.\",\n",
        ")\n",
        "\n",
        "iface.launch()\n",
        "\n"
      ],
      "metadata": {
        "id": "dzZNIgOfGSJD"
      },
      "execution_count": null,
      "outputs": []
    },
    {
      "cell_type": "code",
      "source": [
        "from openai import OpenAI\n",
        "\n",
        "# Configura el cliente con tu clave de API\n",
        "client = OpenAI(api_key=key)\n",
        "finalurl = \"\";\n",
        "try:\n",
        "    # Generar una nueva imagen desde el prompt\n",
        "    response = client.images.generate(\n",
        "        model=\"dall-e-3\",\n",
        "        prompt=\"A beautiful young blonde woman with headphones, lost in the music. She has a peaceful expression, eyes closed, and a slight smile. Soft golden lighting enhances her delicate features. The background is a cozy modern room with warm ambient lighting, creating a relaxing atmosphere. Ultra-realistic, cinematic style\",\n",
        "        n=1,\n",
        "        size=\"1792x1024\",\n",
        "    )\n",
        "\n",
        "    # Verifica si la respuesta contiene datos y muestra la URL de la imagen generada\n",
        "    if response.data:\n",
        "        finalurl = response.data[0].url\n",
        "        print(\"URL de la imagen generada:\", finalurl)\n",
        "    else:\n",
        "        print(\"No se recibió ninguna imagen en la respuesta.\")\n",
        "\n",
        "except Exception as e:\n",
        "    print(f\"Ocurrió un error: {e}\")\n"
      ],
      "metadata": {
        "id": "LeVDFhQ2G0GE"
      },
      "execution_count": null,
      "outputs": []
    },
    {
      "cell_type": "code",
      "source": [
        "import requests\n",
        "\n",
        "# URL de la imagen\n",
        "url = finalurl\n",
        "\n",
        "# Nombre del archivo donde se guardará la imagen\n",
        "nombre_archivo = \"finalimg.png\"\n",
        "\n",
        "try:\n",
        "    # Descargar la imagen\n",
        "    response = requests.get(url, stream=True)\n",
        "    response.raise_for_status()  # Lanza un error si la petición falla\n",
        "\n",
        "    # Guardar la imagen en un archivo\n",
        "    with open(nombre_archivo, \"wb\") as file:\n",
        "        for chunk in response.iter_content(1024):\n",
        "            file.write(chunk)\n",
        "\n",
        "    print(f\"Imagen descargada exitosamente: {nombre_archivo}\")\n",
        "\n",
        "except requests.exceptions.RequestException as e:\n",
        "    print(f\"Error al descargar la imagen: {e}\")"
      ],
      "metadata": {
        "id": "iRQ1FnosHxW1"
      },
      "execution_count": null,
      "outputs": []
    },
    {
      "cell_type": "code",
      "source": [
        "# Interfaz con Gradio\n",
        "import gradio as gr\n",
        "\n",
        "# Ruta de la imagen a mostrar\n",
        "infImage = \"/content/finalimg.png\"\n",
        "\n",
        "# Interfaz con Gradio\n",
        "iface = gr.Interface(\n",
        "    fn=lambda: infImage,  # Retorna la imagen almacenada\n",
        "    inputs=None,  # No necesita entrada del usuario\n",
        "    outputs=gr.Image(label=\"Imagen Generada\"),\n",
        "    title=\"Generador de Imágenes con DALL·E 2\",\n",
        "    description=\"Imagen generada por IA.\",\n",
        ")\n",
        "\n",
        "iface.launch()"
      ],
      "metadata": {
        "id": "U0n4l5KZIorS"
      },
      "execution_count": null,
      "outputs": []
    }
  ]
}