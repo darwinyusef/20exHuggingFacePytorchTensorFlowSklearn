{
  "nbformat": 4,
  "nbformat_minor": 0,
  "metadata": {
    "colab": {
      "private_outputs": true,
      "provenance": [],
      "authorship_tag": "ABX9TyOUmgXmfZyLwk9IJ0XZIaA+",
      "include_colab_link": true
    },
    "kernelspec": {
      "name": "python3",
      "display_name": "Python 3"
    },
    "language_info": {
      "name": "python"
    }
  },
  "cells": [
    {
      "cell_type": "markdown",
      "metadata": {
        "id": "view-in-github",
        "colab_type": "text"
      },
      "source": [
        "<a href=\"https://colab.research.google.com/github/darwinyusef/20exHuggingFacePytorchTensorFlowSklearn/blob/master/ex4/speechtotextandimagev2.ipynb\" target=\"_parent\"><img src=\"https://colab.research.google.com/assets/colab-badge.svg\" alt=\"Open In Colab\"/></a>"
      ]
    },
    {
      "cell_type": "code",
      "source": [
        "from google.colab import userdata\n",
        "\n",
        "key = userdata.get('openIAKey')"
      ],
      "metadata": {
        "id": "TFM8WjLHS77K"
      },
      "execution_count": null,
      "outputs": []
    },
    {
      "cell_type": "code",
      "execution_count": null,
      "metadata": {
        "id": "IPBdTeukPS42"
      },
      "outputs": [],
      "source": [
        "from pydantic import BaseModel\n",
        "from openai import OpenAI\n",
        "\n",
        "client = OpenAI(api_key=key)  # Reemplaza con tu clave de API\n",
        "\n",
        "class VocabularyStep(BaseModel):\n",
        "    word: str\n",
        "    definition: str\n",
        "    example_sentence: str\n",
        "    #image_url: str  # URL de la imagen generada por DALL·E\n",
        "\n",
        "class VocabularyResponse(BaseModel):\n",
        "    words: list[VocabularyStep]\n",
        "\n",
        "# Generar vocabulario\n",
        "completion = client.beta.chat.completions.parse(\n",
        "    model=\"gpt-4o-2024-08-06\",\n",
        "    messages=[\n",
        "        {\"role\": \"system\", \"content\": \"You are a helpful language tutor. Provide simple definitions, example sentences, and image prompts for A2 vocabulary words.\"},\n",
        "        {\"role\": \"user\", \"content\": \"Can you teach me five A2 words related to food?\"}\n",
        "    ],\n",
        "    response_format=VocabularyResponse,\n",
        ")\n",
        "\n",
        "vocabulary_response = completion.choices[0].message.parsed\n",
        "\n",
        "# Generar imágenes para cada palabra\n",
        "\"\"\"for word_data in vocabulary_response.words:\n",
        "    image_response = client.images.generate(\n",
        "        model=\"dall-e-3\",\n",
        "        prompt=f\"An illustration representing the word '{word_data.word}'. {word_data.definition}. Example: {word_data.example_sentence}.\",\n",
        "        size=\"1024x1024\"\n",
        "    )\n",
        "    word_data.image_url = image_response.data[0].url  # Asigna la imagen generada\"\"\"\n",
        "\n",
        "vocabulary_response\n",
        "\n",
        "# Ahora vocabulary_response.words tiene palabras con sus imágenes\n"
      ]
    },
    {
      "cell_type": "code",
      "source": [
        "word_data"
      ],
      "metadata": {
        "id": "YNYv4I-HUQXL"
      },
      "execution_count": null,
      "outputs": []
    },
    {
      "cell_type": "code",
      "source": [
        "!pip install gtts gradio"
      ],
      "metadata": {
        "id": "krTpIqGFWspq"
      },
      "execution_count": null,
      "outputs": []
    },
    {
      "cell_type": "code",
      "source": [
        "import gradio as gr\n",
        "from gtts import gTTS\n",
        "import tempfile\n",
        "\n",
        "# Datos del primer elemento\n",
        "word_data = {\n",
        "    \"word\": \"apple\",\n",
        "    \"definition\": \"A round fruit with red, green, or yellow skin and a firm white flesh.\",\n",
        "    \"example_sentence\": \"I eat an apple every morning for breakfast.\"\n",
        "}\n",
        "\n",
        "# Función para generar audio\n",
        "def generate_audio():\n",
        "    text = f\"Word: {word_data['word']}. Definition: {word_data['definition']}. Example: {word_data['example_sentence']}.\"\n",
        "    tts = gTTS(text=text, lang='en', slow=False)\n",
        "\n",
        "    temp_file = tempfile.NamedTemporaryFile(delete=False, suffix=\".mp3\")\n",
        "    tts.save(temp_file.name)\n",
        "\n",
        "    return temp_file.name\n",
        "\n",
        "# Interfaz con Gradio\n",
        "iface = gr.Interface(\n",
        "    fn=generate_audio,\n",
        "    inputs=[],\n",
        "    outputs=gr.Audio(label=\"Generated Speech\"),\n",
        "    title=\"Text to Speech Example\",\n",
        "    description=\"Click the button to hear the pronunciation of the word, its definition, and an example sentence.\"\n",
        ")\n",
        "\n",
        "iface.launch()\n"
      ],
      "metadata": {
        "id": "9bv7zSoRWoh4"
      },
      "execution_count": null,
      "outputs": []
    }
  ]
}